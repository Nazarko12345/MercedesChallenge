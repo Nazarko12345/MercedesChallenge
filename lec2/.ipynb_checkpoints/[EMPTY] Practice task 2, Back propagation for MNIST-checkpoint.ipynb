{
 "cells": [
  {
   "cell_type": "markdown",
   "metadata": {},
   "source": [
    "## Семинар 2 \"Распознавание рукописных цифр\""
   ]
  },
  {
   "cell_type": "markdown",
   "metadata": {},
   "source": [
    "ФИО: "
   ]
  },
  {
   "cell_type": "markdown",
   "metadata": {},
   "source": [
    "В этом задании мы используем нейронную сеть из предыдущего семинара для распознавания рукописных цифр. Также мы исследуем как влияет выбор нелинейности и предобработка данных на качество классификации. \n",
    "\n",
    "Чтобы не тратить время на подготовку данных, мы прилагаем готовый код с примером использования для получения обучающей и тестовой выборок. Для запуска скрипта вам понадобится библиотека PyTorch (инструкции по установке можно найти на сайте <a href=\"http://pytorch.org\">pytorch.org</a>)"
   ]
  },
  {
   "cell_type": "code",
   "execution_count": 1,
   "metadata": {},
   "outputs": [],
   "source": [
    "import matplotlib.pyplot as plt\n",
    "from torch.utils.data import DataLoader\n",
    "from torchvision.datasets import MNIST\n",
    "from torchvision import transforms\n",
    "import numpy as np\n",
    "from layers import Linear, Sigmoid, NLLLoss # Results from Seminar 1\n",
    "%matplotlib inline"
   ]
  },
  {
   "cell_type": "code",
   "execution_count": 2,
   "metadata": {},
   "outputs": [
    {
     "name": "stdout",
     "output_type": "stream",
     "text": [
      "Downloading http://yann.lecun.com/exdb/mnist/train-images-idx3-ubyte.gz to .\\MNIST\\raw\\train-images-idx3-ubyte.gz\n"
     ]
    },
    {
     "name": "stderr",
     "output_type": "stream",
     "text": [
      " 99%|███████████████████████████████████████████████████████████████████▌| 9854976/9912422 [00:13<00:00, 602820.35it/s]"
     ]
    },
    {
     "name": "stdout",
     "output_type": "stream",
     "text": [
      "Extracting .\\MNIST\\raw\\train-images-idx3-ubyte.gz\n",
      "Downloading http://yann.lecun.com/exdb/mnist/train-labels-idx1-ubyte.gz to .\\MNIST\\raw\\train-labels-idx1-ubyte.gz\n"
     ]
    },
    {
     "name": "stderr",
     "output_type": "stream",
     "text": [
      "\n",
      "0it [00:00, ?it/s]\n",
      "  0%|                                                                                        | 0/28881 [00:00<?, ?it/s]\n",
      " 57%|████████████████████████████████████████▊                               | 16384/28881 [00:00<00:00, 103037.90it/s]\n",
      "32768it [00:00, 64889.29it/s]                                                                                          "
     ]
    },
    {
     "name": "stdout",
     "output_type": "stream",
     "text": [
      "Extracting .\\MNIST\\raw\\train-labels-idx1-ubyte.gz\n",
      "Downloading http://yann.lecun.com/exdb/mnist/t10k-images-idx3-ubyte.gz to .\\MNIST\\raw\\t10k-images-idx3-ubyte.gz\n"
     ]
    },
    {
     "name": "stderr",
     "output_type": "stream",
     "text": [
      "\n",
      "0it [00:00, ?it/s]\n",
      "  0%|                                                                                      | 0/1648877 [00:00<?, ?it/s]\n",
      "  1%|▋                                                                     | 16384/1648877 [00:00<00:14, 111444.34it/s]\n",
      "  2%|█▍                                                                    | 32768/1648877 [00:00<00:14, 110655.59it/s]\n",
      "  3%|██                                                                    | 49152/1648877 [00:00<00:14, 112058.29it/s]\n",
      "  4%|██▊                                                                   | 65536/1648877 [00:00<00:14, 112664.31it/s]\n",
      "  6%|████▍                                                                | 106496/1648877 [00:01<00:11, 137494.04it/s]\n",
      " 11%|███████▌                                                             | 180224/1648877 [00:01<00:08, 176209.91it/s]\n",
      " 15%|██████████▋                                                          | 253952/1648877 [00:01<00:06, 219362.63it/s]\n",
      " 20%|██████████████                                                       | 335872/1648877 [00:01<00:04, 269191.51it/s]\n",
      " 25%|█████████████████▏                                                   | 409600/1648877 [00:01<00:03, 330193.78it/s]\n",
      " 29%|████████████████████▏                                                | 483328/1648877 [00:01<00:03, 371109.25it/s]\n",
      " 34%|███████████████████████▋                                             | 565248/1648877 [00:01<00:02, 414367.10it/s]\n",
      " 40%|███████████████████████████▍                                         | 655360/1648877 [00:02<00:02, 431761.92it/s]\n",
      " 45%|██████████████████████████████▊                                      | 737280/1648877 [00:02<00:01, 465739.20it/s]\n",
      " 50%|██████████████████████████████████▌                                  | 827392/1648877 [00:02<00:01, 501504.13it/s]\n",
      " 55%|██████████████████████████████████████                               | 909312/1648877 [00:02<00:01, 521536.52it/s]\n",
      " 60%|█████████████████████████████████████████▍                           | 991232/1648877 [00:02<00:01, 539339.03it/s]\n",
      " 65%|████████████████████████████████████████████▎                       | 1073152/1648877 [00:02<00:01, 548018.58it/s]\n",
      " 70%|███████████████████████████████████████████████▋                    | 1155072/1648877 [00:02<00:00, 556277.08it/s]\n",
      " 75%|███████████████████████████████████████████████████                 | 1236992/1648877 [00:03<00:00, 612085.44it/s]\n",
      " 79%|█████████████████████████████████████████████████████▋              | 1302528/1648877 [00:03<00:00, 614682.31it/s]\n",
      " 83%|████████████████████████████████████████████████████████▍           | 1368064/1648877 [00:03<00:00, 572637.89it/s]\n",
      " 87%|███████████████████████████████████████████████████████████         | 1433600/1648877 [00:03<00:00, 538694.66it/s]\n",
      " 91%|█████████████████████████████████████████████████████████████▊      | 1499136/1648877 [00:03<00:00, 566702.33it/s]\n",
      " 96%|█████████████████████████████████████████████████████████████████▏  | 1581056/1648877 [00:03<00:00, 562825.87it/s]\n",
      "1654784it [00:03, 439925.02it/s]                                                                                       "
     ]
    },
    {
     "name": "stdout",
     "output_type": "stream",
     "text": [
      "Extracting .\\MNIST\\raw\\t10k-images-idx3-ubyte.gz\n",
      "Downloading http://yann.lecun.com/exdb/mnist/t10k-labels-idx1-ubyte.gz to .\\MNIST\\raw\\t10k-labels-idx1-ubyte.gz\n"
     ]
    },
    {
     "name": "stderr",
     "output_type": "stream",
     "text": [
      "\n",
      "0it [00:00, ?it/s]\n",
      "  0%|                                                                                         | 0/4542 [00:01<?, ?it/s]"
     ]
    },
    {
     "name": "stdout",
     "output_type": "stream",
     "text": [
      "Extracting .\\MNIST\\raw\\t10k-labels-idx1-ubyte.gz\n",
      "Processing...\n",
      "Done!\n"
     ]
    }
   ],
   "source": [
    "to_numpy = lambda x: x.numpy()\n",
    "transform = transforms.Compose([\n",
    "                       transforms.ToTensor(),\n",
    "                       transforms.Normalize((0.1307,), (0.3081,))\n",
    "                    ])\n",
    "train_dataset = MNIST('.', train=True, download=True, transform=transform)\n",
    "test_dataset = MNIST('.', train=False, transform=transform)\n",
    "\n",
    "train_loader = DataLoader(train_dataset, batch_size=32, shuffle=True)\n",
    "test_loader = DataLoader(test_dataset, batch_size=32, shuffle=True)"
   ]
  },
  {
   "cell_type": "code",
   "execution_count": 3,
   "metadata": {},
   "outputs": [
    {
     "name": "stderr",
     "output_type": "stream",
     "text": [
      "\r",
      "9920512it [00:30, 602820.35it/s]                                                                                       "
     ]
    }
   ],
   "source": [
    "## Usage example:\n",
    "for X, y in train_loader:\n",
    "    X = X.view(X.size(0), -1)\n",
    "    X = X.numpy() ### Converts torch.Tensor to numpy array\n",
    "    y = y.numpy()\n",
    "    pass"
   ]
  },
  {
   "cell_type": "code",
   "execution_count": 4,
   "metadata": {},
   "outputs": [
    {
     "data": {
      "image/png": "[encoded data removed]",
      "text/plain": [
       "<Figure size 432x504 with 25 Axes>"
      ]
     },
     "metadata": {
      "needs_background": "light"
     },
     "output_type": "display_data"
    }
   ],
   "source": [
    "plt.figure(figsize=(6, 7))\n",
    "for i in range(25):\n",
    "    plt.subplot(5, 5, i+1)\n",
    "    plt.imshow(X[i].reshape(28, 28), cmap=plt.cm.Greys_r)\n",
    "    plt.title(y[i])\n",
    "    plt.axis('off')"
   ]
  },
  {
   "cell_type": "markdown",
   "metadata": {},
   "source": [
    "### Часть 1: MNIST\n",
    "Обучите полносвязную нейронную сеть с архитектурой 784-100-100-10 и сигмоидой в качестве нелинейности. Какую точность классификации удалось получить? Нарисуйте график сходимости на обучающей и тестовой выборках. В качестве темпа обучения (learning rate) возьмите 0.01"
   ]
  },
  {
   "cell_type": "code",
   "execution_count": null,
   "metadata": {
    "collapsed": true
   },
   "outputs": [],
   "source": []
  },
  {
   "cell_type": "markdown",
   "metadata": {},
   "source": [
    "### Часть 2: Нелинейности"
   ]
  },
  {
   "cell_type": "markdown",
   "metadata": {},
   "source": [
    "Обучите нейронную сеть с другими нелинейностями: ReLU и ELU. Сравните скорости сходимости и качество классификации с различными функциями активации."
   ]
  },
  {
   "cell_type": "code",
   "execution_count": null,
   "metadata": {
    "collapsed": true
   },
   "outputs": [],
   "source": []
  },
  {
   "cell_type": "markdown",
   "metadata": {},
   "source": [
    "### Часть 3: Выводы\n",
    "Опишите полученные результаты: как влияют выбор нелинейности и предобработка данных на скорость сходимости и итоговое качество?"
   ]
  },
  {
   "cell_type": "code",
   "execution_count": null,
   "metadata": {
    "collapsed": true
   },
   "outputs": [],
   "source": []
  }
 ],
 "metadata": {
  "kernelspec": {
   "display_name": "Python 3",
   "language": "python",
   "name": "python3"
  },
  "language_info": {
   "codemirror_mode": {
    "name": "ipython",
    "version": 3
   },
   "file_extension": ".py",
   "mimetype": "text/x-python",
   "name": "python",
   "nbconvert_exporter": "python",
   "pygments_lexer": "ipython3",
   "version": "3.7.0"
  }
 },
 "nbformat": 4,
 "nbformat_minor": 2
}
